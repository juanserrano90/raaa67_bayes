{
  "cells": [
    {
      "cell_type": "code",
      "execution_count": 1,
      "metadata": {
        "id": "P9WKhx1dbLOk"
      },
      "outputs": [],
      "source": [
        "import pymc as pm\n",
        "import arviz as az\n",
        "import numpy as np\n",
        "import pandas as pd\n",
        "import pytensor.tensor as pt\n",
        "import matplotlib.pyplot as plt\n",
        "import seaborn as sns\n",
        "import xarray as xr"
      ]
    },
    {
      "cell_type": "markdown",
      "metadata": {},
      "source": [
        "# a"
      ]
    },
    {
      "cell_type": "code",
      "execution_count": 11,
      "metadata": {},
      "outputs": [
        {
          "name": "stderr",
          "output_type": "stream",
          "text": [
            "/tmp/ipykernel_32525/576006674.py:4: FutureWarning: The 'delim_whitespace' keyword in pd.read_csv is deprecated and will be removed in a future version. Use ``sep='\\s+'`` instead\n",
            "  data = pd.read_csv(url, delim_whitespace=True, comment='#', skiprows=[1])\n"
          ]
        },
        {
          "data": {
            "text/html": [
              "<div>\n",
              "<style scoped>\n",
              "    .dataframe tbody tr th:only-of-type {\n",
              "        vertical-align: middle;\n",
              "    }\n",
              "\n",
              "    .dataframe tbody tr th {\n",
              "        vertical-align: top;\n",
              "    }\n",
              "\n",
              "    .dataframe thead th {\n",
              "        text-align: right;\n",
              "    }\n",
              "</style>\n",
              "<table border=\"1\" class=\"dataframe\">\n",
              "  <thead>\n",
              "    <tr style=\"text-align: right;\">\n",
              "      <th></th>\n",
              "      <th>rjd</th>\n",
              "      <th>vrad</th>\n",
              "      <th>svrad</th>\n",
              "      <th>fwhm</th>\n",
              "      <th>sig_fwhm</th>\n",
              "      <th>contrast</th>\n",
              "      <th>sig_contrast</th>\n",
              "      <th>weight</th>\n",
              "    </tr>\n",
              "  </thead>\n",
              "  <tbody>\n",
              "    <tr>\n",
              "      <th>0</th>\n",
              "      <td>49610.5268</td>\n",
              "      <td>-33245.731142</td>\n",
              "      <td>8.679706</td>\n",
              "      <td>11.235705</td>\n",
              "      <td>15.889686</td>\n",
              "      <td>0.1723</td>\n",
              "      <td>0.000001</td>\n",
              "      <td>1</td>\n",
              "    </tr>\n",
              "    <tr>\n",
              "      <th>1</th>\n",
              "      <td>49612.4657</td>\n",
              "      <td>-33212.731231</td>\n",
              "      <td>8.547019</td>\n",
              "      <td>11.233350</td>\n",
              "      <td>15.886356</td>\n",
              "      <td>0.1722</td>\n",
              "      <td>0.000001</td>\n",
              "      <td>1</td>\n",
              "    </tr>\n",
              "    <tr>\n",
              "      <th>2</th>\n",
              "      <td>49653.2973</td>\n",
              "      <td>-33211.733095</td>\n",
              "      <td>9.537624</td>\n",
              "      <td>11.157990</td>\n",
              "      <td>15.779781</td>\n",
              "      <td>0.1730</td>\n",
              "      <td>0.000001</td>\n",
              "      <td>1</td>\n",
              "    </tr>\n",
              "    <tr>\n",
              "      <th>3</th>\n",
              "      <td>49655.3067</td>\n",
              "      <td>-33271.733187</td>\n",
              "      <td>6.892408</td>\n",
              "      <td>11.160345</td>\n",
              "      <td>15.783111</td>\n",
              "      <td>0.1742</td>\n",
              "      <td>0.000001</td>\n",
              "      <td>1</td>\n",
              "    </tr>\n",
              "    <tr>\n",
              "      <th>4</th>\n",
              "      <td>49728.2289</td>\n",
              "      <td>-33309.336516</td>\n",
              "      <td>7.101842</td>\n",
              "      <td>11.141505</td>\n",
              "      <td>15.756467</td>\n",
              "      <td>0.1756</td>\n",
              "      <td>0.000001</td>\n",
              "      <td>1</td>\n",
              "    </tr>\n",
              "  </tbody>\n",
              "</table>\n",
              "</div>"
            ],
            "text/plain": [
              "          rjd          vrad     svrad       fwhm   sig_fwhm  contrast  \\\n",
              "0  49610.5268 -33245.731142  8.679706  11.235705  15.889686    0.1723   \n",
              "1  49612.4657 -33212.731231  8.547019  11.233350  15.886356    0.1722   \n",
              "2  49653.2973 -33211.733095  9.537624  11.157990  15.779781    0.1730   \n",
              "3  49655.3067 -33271.733187  6.892408  11.160345  15.783111    0.1742   \n",
              "4  49728.2289 -33309.336516  7.101842  11.141505  15.756467    0.1756   \n",
              "\n",
              "   sig_contrast  weight  \n",
              "0      0.000001       1  \n",
              "1      0.000001       1  \n",
              "2      0.000001       1  \n",
              "3      0.000001       1  \n",
              "4      0.000001       1  "
            ]
          },
          "execution_count": 11,
          "metadata": {},
          "output_type": "execute_result"
        }
      ],
      "source": [
        "# read data from url\n",
        "url  = \"https://raw.githubusercontent.com/juanserrano90/raaa67_bayes/refs/heads/main/51_peg_ELODIE_DRS-TACOS.rdb\"\n",
        "\n",
        "data = pd.read_csv(url, delim_whitespace=True, comment='#', skiprows=[1])\n",
        "data.head()"
      ]
    }
  ],
  "metadata": {
    "colab": {
      "provenance": []
    },
    "kernelspec": {
      "display_name": "exoplanet3",
      "language": "python",
      "name": "python3"
    },
    "language_info": {
      "codemirror_mode": {
        "name": "ipython",
        "version": 3
      },
      "file_extension": ".py",
      "mimetype": "text/x-python",
      "name": "python",
      "nbconvert_exporter": "python",
      "pygments_lexer": "ipython3",
      "version": "3.11.9"
    }
  },
  "nbformat": 4,
  "nbformat_minor": 0
}
